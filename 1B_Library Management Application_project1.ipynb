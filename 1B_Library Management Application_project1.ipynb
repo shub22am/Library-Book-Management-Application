{
 "cells": [
  {
   "cell_type": "markdown",
   "id": "37e98f6f",
   "metadata": {},
   "source": [
    "# 1B: Library Book Management Application"
   ]
  },
  {
   "cell_type": "code",
   "execution_count": 1,
   "id": "04e0d30e",
   "metadata": {},
   "outputs": [],
   "source": [
    "from tkinter import*\n",
    "import sqlite3\n",
    "import tkinter.ttk as ttk\n",
    "import tkinter.messagebox as tkMessageBox"
   ]
  },
  {
   "cell_type": "code",
   "execution_count": 2,
   "id": "1cc49e79",
   "metadata": {},
   "outputs": [
    {
     "data": {
      "text/plain": [
       "''"
      ]
     },
     "execution_count": 2,
     "metadata": {},
     "output_type": "execute_result"
    }
   ],
   "source": [
    "root = Tk()\n",
    "root.title('A Library Application')"
   ]
  },
  {
   "cell_type": "code",
   "execution_count": 3,
   "id": "6f7baf89",
   "metadata": {},
   "outputs": [],
   "source": [
    "def Database():\n",
    "    global conn,cursor\n",
    "    conn = sqlite3.connect('simple.db')\n",
    "    cursor = conn.cursor()\n",
    "    cursor.execute(\"CREATE TABLE IF NOT EXISTS books (isbn INTEGER PRIMARY KEY AUTOINCREMENT NOT NULL, book_title TEXT, author TEXT, year TEXT)\")\n"
   ]
  },
  {
   "cell_type": "code",
   "execution_count": 4,
   "id": "12f08e49",
   "metadata": {},
   "outputs": [],
   "source": [
    "def Create():\n",
    "    if BOOKNAME.get() == \"\" or AUTHOR.get() == \"\" or YEAR == \"\":\n",
    "        txt_result.config(text=\"Please enter all the fields\", fd=\"red\")\n",
    "    else:\n",
    "        Database()\n",
    "        cursor.execute(\"INSERT INTO books (book_title,author,year) VALUES (?,?,?)\",(str(BOOKNAME.get()),str(AUTHOR.get()),str(YEAR.get())))\n",
    "        conn.commit()\n",
    "        ISBN.set(\"\")\n",
    "        BOOKNAME.set(\"\")\n",
    "        AUTHOR.set(\"\")\n",
    "        YEAR.set(\"\")\n",
    "        cursor.close()\n",
    "        conn.close()\n",
    "        txt_result.config(text = \"Recorded ! \",fg = \"green\")"
   ]
  },
  {
   "cell_type": "code",
   "execution_count": 5,
   "id": "7e83a468",
   "metadata": {},
   "outputs": [],
   "source": [
    "def Read():\n",
    "    tree.delete()#(*tree.get_children)\n",
    "    Database()\n",
    "    cursor.execute(\"SELECT * FROM books ORDER BY book_title\")\n",
    "    fetch = cursor.fetchall()\n",
    "    for data in fetch:\n",
    "        tree.insert('','end',values=(data[1],data[2],data[3]))\n",
    "    cursor.close()\n",
    "    txt_result.config(text=\"Successfully Fetched Data !\")"
   ]
  },
  {
   "cell_type": "code",
   "execution_count": 6,
   "id": "49202623",
   "metadata": {},
   "outputs": [],
   "source": [
    "def Update():\n",
    "    Database()\n",
    "    \n",
    "    if BOOKNAME.get() != \"\":\n",
    "        cursor.execute(\"UPDATE books SET book_title = ? WHERE isbn = ?\",(BOOKNAME.get(),ISBN.get(),))\n",
    "    if AUTHOR.get() != \"\":\n",
    "        cursor.execute(\"UPDATE books SET author = ? WHERE isbn = ?\",(AUTHOR.get(),ISBN.get(),))\n",
    "    if YEAR.get() != \"\":\n",
    "        cursor.execute(\"UPDATE books SET year = ? WHERE isbn = ?\",(YEAR.get(),ISBN.get(),))\n",
    "        \n",
    "    conn.commit()\n",
    "    ISBN.set(\"\")\n",
    "    BOOKNAME.set(\"\")\n",
    "    AUTHOR.set(\"\")\n",
    "    YEAR.set(\"\")\n",
    "    cursor.close()\n",
    "    conn.close()\n",
    "    txt_result.config(text=\"Successfully Updated \")"
   ]
  },
  {
   "cell_type": "code",
   "execution_count": 7,
   "id": "c304938b",
   "metadata": {},
   "outputs": [],
   "source": [
    "def Delete():\n",
    "    Database()\n",
    "    cursor.execute(\"DELETE FROM books where book_title = ? or author = ? \",(BOOKNAME.get(),AUTHOR.get(),))\n",
    "    conn.commit()\n",
    "    ISBN.set(\"\")\n",
    "    BOOKNAME.set(\"\")\n",
    "    AUTHOR.set(\"\")\n",
    "    YEAR.set(\"\")\n",
    "    cursor.close()\n",
    "    conn.close()\n",
    "    txt_result.config(text=\"Successfully Deleted \")"
   ]
  },
  {
   "cell_type": "code",
   "execution_count": 8,
   "id": "be00c921",
   "metadata": {},
   "outputs": [],
   "source": [
    "def Exit():\n",
    "    result = tkMessageBox.askquestion('Do you want to Exit ? (y/n)', icon = 'warning')\n",
    "    if result == 'yes':\n",
    "        root.destroy()\n",
    "        exit()\n",
    "        "
   ]
  },
  {
   "cell_type": "code",
   "execution_count": 9,
   "id": "788ec520",
   "metadata": {},
   "outputs": [],
   "source": [
    "BOOKNAME = StringVar()\n",
    "AUTHOR = StringVar()\n",
    "YEAR = StringVar()\n",
    "ISBN = IntVar()"
   ]
  },
  {
   "cell_type": "code",
   "execution_count": 10,
   "id": "c5dad372",
   "metadata": {},
   "outputs": [],
   "source": [
    "Top = Frame(root, width = 900, height = 50, bd = 8, relief = 'raise')\n",
    "Top.pack(side=TOP)\n",
    "Left = Frame(root, width = 300, height = 500, bd = 8, relief = 'raise')\n",
    "Left.pack(side=LEFT)\n",
    "Right = Frame(root, width = 600, height = 500, bd = 8, relief = 'raise')\n",
    "Right.pack(side=RIGHT)\n",
    "\n",
    "Forms = Frame(Left,width = 300, height = 450)\n",
    "Forms.pack(side=TOP)\n",
    "\n",
    "Buttons = Frame(Left, width = 300, height = 100, bd = 8, relief = 'raise')\n",
    "Buttons.pack(side=BOTTOM)"
   ]
  },
  {
   "cell_type": "code",
   "execution_count": 11,
   "id": "9dd9981d",
   "metadata": {},
   "outputs": [],
   "source": [
    "#===============================================LABELS=======================================\n",
    "\n",
    "txt_title = Label(Top, width = 900, font=('arial',24), text = \".....Library Management Application.....\")\n",
    "txt_title.pack()\n",
    "txt_isbn = Label(Forms, text = \"ISBN number: \", font = ('arial',16), bd=15)\n",
    "txt_isbn.grid(row=0,stick=\"e\")\n",
    "txt_bookName = Label(Forms, text = \"Book's name: \", font = ('arial',16), bd=15)\n",
    "txt_bookName.grid(row=1,stick=\"e\")\n",
    "txt_Author = Label(Forms, text = \"Author's name: \", font = ('arial',16), bd=15)\n",
    "txt_Author.grid(row=2,stick=\"e\")\n",
    "txt_Year = Label(Forms, text = \"Year: \", font = ('arial',16), bd=15)\n",
    "txt_Year.grid(row=3,stick=\"e\")\n",
    "txt_result = Label(Buttons)\n",
    "txt_result.pack(side = TOP)\n"
   ]
  },
  {
   "cell_type": "code",
   "execution_count": 12,
   "id": "7df24dde",
   "metadata": {},
   "outputs": [],
   "source": [
    "#=====================================ENTERY==================================\n",
    "\n",
    "isbnum = Entry(Forms, textvariable=ISBN,width=30)\n",
    "isbnum.grid(row=0,column=1)\n",
    "bookname = Entry(Forms, textvariable=BOOKNAME,width=30)\n",
    "bookname.grid(row=1,column=1)\n",
    "author = Entry(Forms, textvariable=AUTHOR,width=30)\n",
    "author.grid(row=2,column=1)\n",
    "year = Entry(Forms, textvariable=YEAR,width=30)\n",
    "year.grid(row=3,column=1)"
   ]
  },
  {
   "cell_type": "code",
   "execution_count": 13,
   "id": "313f29c7",
   "metadata": {},
   "outputs": [],
   "source": [
    "#===========================BUTTONS========================\n",
    "\n",
    "\n",
    "btn_create = Button(Buttons, width=10, text=\"Add\", command = Create)\n",
    "btn_create.pack(side=LEFT)\n",
    "btn_read = Button(Buttons, width=10, text=\"Display\", command = Read)\n",
    "btn_read.pack(side=LEFT)\n",
    "btn_update = Button(Buttons, width=10, text=\"Update\", command = Update)\n",
    "btn_update.pack(side=LEFT)\n",
    "btn_delete = Button(Buttons, width=10, text=\"Delete\", command = Delete)\n",
    "btn_delete.pack(side=LEFT)\n",
    "btn_exit = Button(Buttons, width=10, text=\"Exit\", command = Exit)\n",
    "btn_exit.pack(side=LEFT)\n"
   ]
  },
  {
   "cell_type": "code",
   "execution_count": 14,
   "id": "75142df6",
   "metadata": {},
   "outputs": [],
   "source": [
    "#===========================LIST========================\n",
    "\n",
    "scrollbary = Scrollbar(Right, orient=VERTICAL)\n",
    "scrollbarx = Scrollbar(Right, orient=HORIZONTAL)\n",
    "\n",
    "tree = ttk.Treeview(Right, columns=(\"Book\",\"Author\",\"Year\"))\n",
    "scrollbary.config(command=tree.yview)\n",
    "scrollbary.pack(side=RIGHT, fill=Y)\n",
    "scrollbarx.config(command=tree.xview)\n",
    "scrollbarx.pack(side=BOTTOM,fill=X)\n",
    "tree.heading('Book', text = 'Book', anchor =W)\n",
    "tree.heading('Author', text = 'Author', anchor =W)\n",
    "tree.heading('Year', text = 'Year', anchor =W)\n",
    "\n",
    "tree.column('#0', stretch=NO, minwidth=0, width=0)\n",
    "tree.column('#1', stretch=NO, minwidth=0, width=80)\n",
    "tree.column('#2', stretch=NO, minwidth=0, width=120)\n",
    "tree.pack()"
   ]
  },
  {
   "cell_type": "code",
   "execution_count": null,
   "id": "aec56e45",
   "metadata": {},
   "outputs": [],
   "source": [
    "#===========================Initialization========================\n",
    "\n",
    "if __name__=='__main__':\n",
    "    root.mainloop()\n"
   ]
  },
  {
   "cell_type": "code",
   "execution_count": null,
   "id": "ddc677ac",
   "metadata": {},
   "outputs": [],
   "source": []
  }
 ],
 "metadata": {
  "kernelspec": {
   "display_name": "Python 3 (ipykernel)",
   "language": "python",
   "name": "python3"
  },
  "language_info": {
   "codemirror_mode": {
    "name": "ipython",
    "version": 3
   },
   "file_extension": ".py",
   "mimetype": "text/x-python",
   "name": "python",
   "nbconvert_exporter": "python",
   "pygments_lexer": "ipython3",
   "version": "3.9.12"
  }
 },
 "nbformat": 4,
 "nbformat_minor": 5
}
